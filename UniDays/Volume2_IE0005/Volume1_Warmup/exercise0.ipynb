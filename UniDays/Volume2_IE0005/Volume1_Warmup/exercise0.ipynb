{
 "cells": [
  {
   "cell_type": "markdown",
   "metadata": {},
   "source": [
    "Question 1: Reading the blocklist.txt File and Outputing the List of Blocked Users"
   ]
  },
  {
   "cell_type": "code",
   "execution_count": null,
   "metadata": {},
   "outputs": [
    {
     "data": {
      "text/plain": [
       "Opening blocklist.txt\n",
       "\n",
       "BLOCKED LIST\n",
       "\n",
       "\n",
       "cleopatra@pharaoh.org\n",
       "alice@wonderland.co.uk\n",
       "usain.bolt@runnersclub.org\n",
       "mcurie@radium.com\n",
       "None\n",
       "captainhook@neverland.com\n",
       "qeyfqeocb.gmail.com\n",
       "d.vader@empire.net\n"
      ]
     },
     "metadata": {},
     "output_type": "display_data"
    }
   ],
   "source": [
    "print(\"Opening blocklist.txt\\n\")\n",
    "try:\n",
    "    bl = open(\"UniDays/Volume2_IE0005/Volume1_Week1/Exercise0/blocklist.txt\", \"r+\")\n",
    "except FileNotFoundError:\n",
    "    print(\"File does not exist! Creating blocklist.txt\")\n",
    "    bl = open(\"UniDays/Volume2_IE0005/Volume1_Week1/Exercise0/blocklist.txt\", \"x+\")\n",
    "\n",
    "blocklists = set(bl.read().splitlines())\n",
    "\n",
    "print(\"BLOCKED LIST\\n\")\n",
    "for x in blocklists:\n",
    "    print(x)"
   ]
  },
  {
   "cell_type": "markdown",
   "metadata": {},
   "source": [
    "Question 2: Reading the visitors.txt file and finding the number of visitors while also outputing the blocked users"
   ]
  },
  {
   "cell_type": "code",
   "execution_count": null,
   "metadata": {},
   "outputs": [],
   "source": [
    "print(\"Opening visitors.txt\\n\")\n",
    "try:\n",
    "    v = open(\"UniDays/Volume2_IE0005/Volume1_Week1/Exercise0/visitors.txt\", \"r+\")\n",
    "except FileNotFoundError:\n",
    "    print(\"File does not exist! Creating visitors.txt\")\n",
    "    v = open(\"UniDays/Volume2_IE0005/Volume1_Week1/Exercise0/visitors.txt\", \"x+\")\n",
    "\n",
    "visitors = set(v.read().splitlines())\n",
    "\n",
    "print(\"\\nVISITORS\\n\")\n",
    "print(\"{} unique visitors have visited the website!\".format(len(visitors)))\n",
    "for x in visitors:\n",
    "    if x in blocklists:\n",
    "        print(\"{} is a blocked ID and has not been allowed access!\".format(x))\n",
    "    "
   ]
  },
  {
   "cell_type": "markdown",
   "metadata": {},
   "source": [
    "Question 3: Adding a new offender to the blocklist.txt file"
   ]
  },
  {
   "cell_type": "code",
   "execution_count": null,
   "metadata": {},
   "outputs": [],
   "source": [
    "print(\"Enter your list of offenders. To exit type \\\".\\\"\")\n",
    "offender = \"\"\n",
    "while True:\n",
    "    offender = str(input(\"Enter your offender's id: \"))\n",
    "    if offender in blocklists: \n",
    "        print(\"Offender is already blocked!\")\n",
    "    elif offender == \".\":\n",
    "        break\n",
    "    else:\n",
    "        bl.write(\"\\n\" + offender)\n",
    "        blocklists.add(offender)\n",
    "\n",
    "print(\"BLOCKED LIST\\n\")\n",
    "for x in blocklists:\n",
    "    print(x)"
   ]
  }
 ],
 "metadata": {
  "language_info": {
   "name": "python"
  }
 },
 "nbformat": 4,
 "nbformat_minor": 2
}
