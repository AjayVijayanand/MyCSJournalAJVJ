{
 "cells": [
  {
   "cell_type": "markdown",
   "metadata": {},
   "source": [
    "## Getting familiar with Jupyter notebook and Python.\n",
    "#### What is a keyboard shortcut you can use to create a new cell?\n",
    "#### Try it out! Create a Markdown cell immediately below and write your name in it. Make your name look fanciful! Try out different styles. You can refer to [Markdown cheatsheet](https://github.com/adam-p/markdown-here/wiki/Markdown-Cheatsheet).\n"
   ]
  },
  {
   "cell_type": "markdown",
   "metadata": {},
   "source": [
    "1. Write Python code to print out \"Today is a good day!\""
   ]
  },
  {
   "cell_type": "code",
   "execution_count": null,
   "metadata": {},
   "outputs": [
    {
     "data": {
      "text/plain": [
       "Today is a good day!\n"
      ]
     },
     "metadata": {},
     "output_type": "display_data"
    }
   ],
   "source": [
    "print(\"Today is a good day!\")"
   ]
  },
  {
   "cell_type": "markdown",
   "metadata": {},
   "source": [
    "2. Now try to assign the string \"Today is a good day!\" to the variable text1."
   ]
  },
  {
   "cell_type": "code",
   "execution_count": null,
   "metadata": {},
   "outputs": [
    {
     "data": {
      "text/plain": [
       "Today is a good day!\n"
      ]
     },
     "metadata": {},
     "output_type": "display_data"
    }
   ],
   "source": [
    "text1 = \"Today is a good day!\"\n",
    "print(text1)"
   ]
  },
  {
   "cell_type": "markdown",
   "metadata": {},
   "source": [
    "3. Create a new variable text2 containing the activity you wish to do today. Print out a text1 followed by text2."
   ]
  },
  {
   "cell_type": "code",
   "execution_count": null,
   "metadata": {},
   "outputs": [
    {
     "data": {
      "text/plain": [
       "Today is a good day! Code, Coffee, Sleep!\n"
      ]
     },
     "metadata": {},
     "output_type": "display_data"
    }
   ],
   "source": [
    "text2 = \"Code, Coffee, Sleep!\"\n",
    "print(text1, text2)"
   ]
  },
  {
   "cell_type": "markdown",
   "metadata": {},
   "source": [
    "4. Now print out text1 and text2 on two separate lines. Ensure that the two lines are perfectly aligned at the beginning."
   ]
  },
  {
   "cell_type": "code",
   "execution_count": null,
   "metadata": {},
   "outputs": [
    {
     "data": {
      "text/plain": [
       "Today is a good day!\n",
       "Code, Coffee, Sleep!\n"
      ]
     },
     "metadata": {},
     "output_type": "display_data"
    }
   ],
   "source": [
    "print(text1)\n",
    "print(text2)"
   ]
  },
  {
   "cell_type": "markdown",
   "metadata": {},
   "source": [
    "5. Assign a number to the variable: glass_of_water"
   ]
  },
  {
   "cell_type": "code",
   "execution_count": null,
   "metadata": {},
   "outputs": [
    {
     "data": {
      "text/plain": [
       "I drank 10 glasses of water today.\n"
      ]
     },
     "metadata": {},
     "output_type": "display_data"
    }
   ],
   "source": [
    "glass_of_water = 10\n",
    "\n",
    "print(\"I drank\", glass_of_water, \"glasses of water today.\")"
   ]
  },
  {
   "cell_type": "markdown",
   "metadata": {},
   "source": [
    "6. Now assign a string to the variable: glass_of_water"
   ]
  },
  {
   "cell_type": "code",
   "execution_count": null,
   "metadata": {},
   "outputs": [
    {
     "data": {
      "text/plain": [
       "I drank Ten glasses of water today.\n"
      ]
     },
     "metadata": {},
     "output_type": "display_data"
    }
   ],
   "source": [
    "glass_of_water = \"Ten\"\n",
    "\n",
    "print(\"I drank\", glass_of_water, \"glasses of water today.\")"
   ]
  },
  {
   "cell_type": "markdown",
   "metadata": {},
   "source": [
    "7. Assign the third element of the list to answer on line 2. Use indexing to do this."
   ]
  },
  {
   "cell_type": "code",
   "execution_count": null,
   "metadata": {},
   "outputs": [
    {
     "data": {
      "text/plain": [
       "99\n"
      ]
     },
     "metadata": {},
     "output_type": "display_data"
    }
   ],
   "source": [
    "lst=[25, 156, 99, 10, 52]\n",
    "answer = lst[2]\n",
    "\n",
    "print(answer)"
   ]
  },
  {
   "cell_type": "markdown",
   "metadata": {},
   "source": [
    "8. Print the second element directly inside print function."
   ]
  },
  {
   "cell_type": "code",
   "execution_count": null,
   "metadata": {},
   "outputs": [
    {
     "data": {
      "text/plain": [
       "99\n"
      ]
     },
     "metadata": {},
     "output_type": "display_data"
    }
   ],
   "source": [
    "print(lst[2])"
   ]
  },
  {
   "cell_type": "markdown",
   "metadata": {},
   "source": [
    "9. Dictionaries do not have index orders, so speaking about them regarding their first item or last item is not very correct. Next time you print a dictionary it may have a different order than you saw before. Instead they have keys, and we can use keys to call their values.\n",
    "\n",
    "&nbsp;&nbsp;&nbsp;&nbsp;&nbsp;&nbsp;&nbsp;&nbsp; When was Plato born?"
   ]
  },
  {
   "cell_type": "code",
   "execution_count": null,
   "metadata": {},
   "outputs": [
    {
     "data": {
      "text/plain": [
       "427 BC\n"
      ]
     },
     "metadata": {},
     "output_type": "display_data"
    }
   ],
   "source": [
    "dict={\"name\": \"Plato\", \"country\": \"Ancient Greece\", \"born\": \"427 BC\", \"teacher\": \"Socrates\", \"student\": \"Aristotle\"}\n",
    "\n",
    "#Type your answer below.\n",
    "answer= dict[\"born\"]\n",
    "\n",
    "print(answer)"
   ]
  },
  {
   "cell_type": "markdown",
   "metadata": {},
   "source": [
    "10. Change Plato's birth year from 427 BC to 428 BC without redefining the whole dict."
   ]
  },
  {
   "cell_type": "code",
   "execution_count": null,
   "metadata": {},
   "outputs": [
    {
     "data": {
      "text/plain": [
       "428 BC\n"
      ]
     },
     "metadata": {},
     "output_type": "display_data"
    }
   ],
   "source": [
    "#Type your answer below.\n",
    "\n",
    "dict[\"born\"] = \"428 BC\"\n",
    "print(dict[\"born\"])"
   ]
  },
  {
   "cell_type": "markdown",
   "metadata": {},
   "source": [
    "11. Dictionaries can have nested data too. Try to add the key \"work\" to dict with values shown below.\n",
    "\n",
    "\"work\": [\"Apology\", \"Phaedo\", \"Republic\", \"Symposium\"]"
   ]
  },
  {
   "cell_type": "code",
   "execution_count": null,
   "metadata": {},
   "outputs": [
    {
     "data": {
      "text/plain": [
       "{'name': 'Plato', 'country': 'Ancient Greece', 'born': '428 BC', 'teacher': 'Socrates', 'student': 'Aristotle', 'work': ['Apology', 'Phaedo', 'Republic', 'Symposium']}\n"
      ]
     },
     "metadata": {},
     "output_type": "display_data"
    }
   ],
   "source": [
    "#Type your answer below.\n",
    "\n",
    "dict[\"work\"] = [\"Apology\", \"Phaedo\", \"Republic\", \"Symposium\"]\n",
    "print(dict)"
   ]
  },
  {
   "cell_type": "markdown",
   "metadata": {},
   "source": [
    "12. Add 10 cm to the son's height."
   ]
  },
  {
   "cell_type": "code",
   "execution_count": null,
   "metadata": {},
   "outputs": [
    {
     "data": {
      "text/plain": [
       "{\"son's name\": 'Lucas', \"son's eyes\": 'green', \"son's height\": 160, \"son's weight\": 25}\n"
      ]
     },
     "metadata": {},
     "output_type": "display_data"
    }
   ],
   "source": [
    "dict_son={\"son's name\": \"Lucas\", \"son's eyes\": \"green\", \"son's height\": 150, \"son's weight\": 25}\n",
    "\n",
    "#Type your answer below.\n",
    "\n",
    "dict_son[\"son's height\"] += 10\n",
    "print(dict_son)"
   ]
  },
  {
   "cell_type": "markdown",
   "metadata": {},
   "source": [
    "13. Write a function f_1 that takes a number as input and returns that number +5."
   ]
  },
  {
   "cell_type": "code",
   "execution_count": null,
   "metadata": {},
   "outputs": [],
   "source": [
    "#Type your answer below.\n",
    "\n",
    "def f_1(number):\n",
    "    return number + 5\n",
    "\n",
    "f_1(3)"
   ]
  },
  {
   "cell_type": "markdown",
   "metadata": {},
   "source": [
    "14a. Write a function f_2 that takes a list as input and uses a for-loop to print out each element in the list."
   ]
  },
  {
   "cell_type": "code",
   "execution_count": null,
   "metadata": {},
   "outputs": [
    {
     "data": {
      "text/plain": [
       "100\n",
       "200\n",
       "300\n",
       "400\n",
       "500\n"
      ]
     },
     "metadata": {},
     "output_type": "display_data"
    }
   ],
   "source": [
    "#Type your answer below.\n",
    "\n",
    "def f_2(ilist):\n",
    "    for x in ilist:\n",
    "        print(x)\n",
    "\n",
    "\n",
    "lst=[100,200,300,400,500]\n",
    "f_2(lst)"
   ]
  },
  {
   "cell_type": "markdown",
   "metadata": {},
   "source": [
    "14b. Write a function f_2b that takes a list as input and uses a for-loop to print out each odd element from the list. Hint: make use of if-structure and modulus (%) operator"
   ]
  },
  {
   "cell_type": "code",
   "execution_count": null,
   "metadata": {},
   "outputs": [
    {
     "data": {
      "text/plain": [
       "1\n",
       "3\n",
       "5\n"
      ]
     },
     "metadata": {},
     "output_type": "display_data"
    }
   ],
   "source": [
    "#Type your answer below.\n",
    "\n",
    "def f_2b(ilist):\n",
    "    for x in ilist:\n",
    "        if x % 2 == 1:\n",
    "            print(x)\n",
    "\n",
    "\n",
    "lst=[1,2,3,4,5]\n",
    "f_2b(lst)"
   ]
  },
  {
   "cell_type": "markdown",
   "metadata": {},
   "source": [
    "15.  Write a function f_3 that takes a list as input and returns the reverse of that list."
   ]
  },
  {
   "cell_type": "code",
   "execution_count": null,
   "metadata": {},
   "outputs": [
    {
     "data": {
      "text/plain": [
       "[500, 400, 300, 200, 100]\n"
      ]
     },
     "metadata": {},
     "output_type": "display_data"
    }
   ],
   "source": [
    "#Type your answer below.\n",
    "\n",
    "def f_3(ilist):\n",
    "    return ilist[::-1]\n",
    "\n",
    "lst=[100,200,300,400,500]\n",
    "lst = f_3(lst)\n",
    "print(lst)"
   ]
  }
 ],
 "metadata": {
  "kernelspec": {
   "display_name": "Python 3",
   "language": "python",
   "name": "python3"
  },
  "language_info": {
   "codemirror_mode": {
    "name": "ipython",
    "version": 3
   },
   "file_extension": ".py",
   "mimetype": "text/x-python",
   "name": "python",
   "nbconvert_exporter": "python",
   "pygments_lexer": "ipython3",
   "version": "3.13.1"
  }
 },
 "nbformat": 4,
 "nbformat_minor": 2
}
