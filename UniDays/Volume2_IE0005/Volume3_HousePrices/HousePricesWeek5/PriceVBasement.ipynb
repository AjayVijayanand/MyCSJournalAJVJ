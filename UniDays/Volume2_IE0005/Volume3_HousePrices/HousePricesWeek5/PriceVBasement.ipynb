{
 "cells": [
  {
   "cell_type": "markdown",
   "metadata": {},
   "source": [
    "# Exercise 4:  Linear Regression\n",
    "\n",
    "---\n",
    "\n",
    "## House Prices - Advanced Regression Techniques"
   ]
  },
  {
   "cell_type": "markdown",
   "metadata": {},
   "source": [
    "#### Price Versus Basement"
   ]
  },
  {
   "cell_type": "markdown",
   "metadata": {},
   "source": [
    "Link: https://www.kaggle.com/c/house-prices-advanced-regression-techniques"
   ]
  },
  {
   "cell_type": "code",
   "execution_count": 15,
   "metadata": {},
   "outputs": [],
   "source": [
    "import numpy as np\n",
    "import pandas as pd\n",
    "import seaborn as sb\n",
    "import matplotlib.pyplot as plt\n",
    "sb.set()"
   ]
  },
  {
   "cell_type": "code",
   "execution_count": 16,
   "metadata": {},
   "outputs": [],
   "source": [
    "houseData = pd.read_csv('train.csv')"
   ]
  },
  {
   "cell_type": "markdown",
   "metadata": {},
   "source": [
    "Extract the following Numeric variables from the dataset, and store as two new Pandas DataFrames"
   ]
  },
  {
   "cell_type": "code",
   "execution_count": 17,
   "metadata": {},
   "outputs": [],
   "source": [
    "houseTotalBsmtSF = pd.DataFrame(houseData['TotalBsmtSF'])\n",
    "houseSalePrice = pd.DataFrame(houseData['SalePrice'])"
   ]
  },
  {
   "cell_type": "markdown",
   "metadata": {},
   "source": [
    "Plot houseSalePrice against houseTotalBsmtSF using standard jointplot, and note the strong linear relationship."
   ]
  },
  {
   "cell_type": "code",
   "execution_count": null,
   "metadata": {},
   "outputs": [],
   "source": [
    "PriceVBasement = pd.concat([houseTotalBsmtSF, houseSalePrice], axis = 1).reindex(houseTotalBsmtSF.index)\n",
    "\n",
    "sb.jointplot(data = PriceVBasement, x = \"TotalBsmtSF\", y = \"SalePrice\", height = 12)"
   ]
  },
  {
   "cell_type": "code",
   "execution_count": null,
   "metadata": {},
   "outputs": [],
   "source": [
    "sb.heatmap(PriceVBasement.corr(), vmin = -1, vmax = 1, annot = True, fmt=\".2f\")"
   ]
  },
  {
   "cell_type": "markdown",
   "metadata": {},
   "source": [
    "Import Linear Regression model from Scikit-Learn"
   ]
  },
  {
   "cell_type": "code",
   "execution_count": 20,
   "metadata": {},
   "outputs": [],
   "source": [
    "from sklearn.linear_model import LinearRegression"
   ]
  },
  {
   "cell_type": "markdown",
   "metadata": {},
   "source": [
    "Partition both datasets houseTotalBsmtSF and houseSalePrice into Train (1100 rows) and Test (360 rows) sets."
   ]
  },
  {
   "cell_type": "code",
   "execution_count": null,
   "metadata": {},
   "outputs": [],
   "source": [
    "houseTotalBsmtSF_train = pd.DataFrame(houseTotalBsmtSF[:1100])\n",
    "houseSalePrice_train = pd.DataFrame(houseSalePrice[:1100])\n",
    "\n",
    "houseTotalBsmtSF_test = pd.DataFrame(houseTotalBsmtSF[-360:])\n",
    "houseSalePrice_test = pd.DataFrame(houseSalePrice[-360:])\n",
    "\n",
    "print(\"Train Set :\", houseTotalBsmtSF_train.shape, houseSalePrice_train.shape)\n",
    "print(\"Test Set  :\", houseTotalBsmtSF_test.shape, houseSalePrice_test.shape)"
   ]
  },
  {
   "cell_type": "markdown",
   "metadata": {},
   "source": [
    "Training : Fit a Linear Regression model with X = houseTotalBsmtSF_train and y = houseSalePrice_train"
   ]
  },
  {
   "cell_type": "code",
   "execution_count": null,
   "metadata": {},
   "outputs": [],
   "source": [
    "linreg = LinearRegression()\n",
    "linreg.fit(houseTotalBsmtSF_train, houseSalePrice_train)"
   ]
  },
  {
   "cell_type": "markdown",
   "metadata": {},
   "source": [
    "Print the coefficients of the Linear Regression model you just fit."
   ]
  },
  {
   "cell_type": "code",
   "execution_count": null,
   "metadata": {},
   "outputs": [],
   "source": [
    "print('Intercept \\t: b = ', linreg.intercept_)\n",
    "print('Coefficients \\t: a = ', linreg.coef_)"
   ]
  },
  {
   "cell_type": "markdown",
   "metadata": {},
   "source": [
    "Plot the Regression line on a Scatterplot of houseTotalBsmtSF_train and houseSalePrice_train using the standard slope-intercept form of straight line."
   ]
  },
  {
   "cell_type": "code",
   "execution_count": null,
   "metadata": {},
   "outputs": [],
   "source": [
    "regline_x = houseTotalBsmtSF_train\n",
    "regline_y = linreg.intercept_ + linreg.coef_ * houseTotalBsmtSF_train\n",
    "\n",
    "# Plot the Linear Regression line\n",
    "f = plt.figure(figsize=(16, 8))\n",
    "plt.scatter(houseTotalBsmtSF_train, houseSalePrice_train)\n",
    "plt.plot(regline_x.to_numpy(), regline_y.to_numpy(), 'r-', linewidth = 3)\n",
    "plt.show()"
   ]
  },
  {
   "cell_type": "markdown",
   "metadata": {},
   "source": [
    "Predict SalePrice for the test dataset houseTotalBsmtSF_test using the Linear Regression model, and plot the predictions on the Scatterplot of houseTotalBsmtSF_test and houseSalePrice_test to visualize the accuracy."
   ]
  },
  {
   "cell_type": "code",
   "execution_count": 25,
   "metadata": {},
   "outputs": [],
   "source": [
    "houseTotalBsmtSF_train_pred = linreg.predict(houseTotalBsmtSF_train)\n",
    "houseTotalBsmtSF_test_pred = linreg.predict(houseTotalBsmtSF_test)"
   ]
  },
  {
   "cell_type": "code",
   "execution_count": null,
   "metadata": {},
   "outputs": [],
   "source": [
    "f = plt.figure(figsize=(16, 8))\n",
    "plt.scatter(houseTotalBsmtSF_test, houseSalePrice_test, color = \"green\")\n",
    "plt.scatter(houseTotalBsmtSF_test, houseTotalBsmtSF_test_pred, color = \"red\")\n",
    "plt.show()"
   ]
  },
  {
   "cell_type": "markdown",
   "metadata": {},
   "source": [
    "Find the Explained Variance (R^2) of the model on the Train set and on the Test set to check Goodness of Fit."
   ]
  },
  {
   "cell_type": "code",
   "execution_count": 27,
   "metadata": {},
   "outputs": [],
   "source": [
    "def mean_sq_err(actual, predicted):\n",
    "    return np.mean(np.square(np.array(actual) - np.array(predicted)))"
   ]
  },
  {
   "cell_type": "code",
   "execution_count": null,
   "metadata": {},
   "outputs": [],
   "source": [
    "def mean_sq_err(actual, predicted):\n",
    "    return np.mean(np.square(np.array(actual) - np.array(predicted)))\n",
    "\n",
    "print(\"Goodness of Fit of Model \\tTrain Dataset\")\n",
    "print(\"Explained Variance (R^2) \\t:\", linreg.score(houseTotalBsmtSF_train, houseSalePrice_train))\n",
    "mse = mean_sq_err(houseSalePrice_train, houseTotalBsmtSF_train_pred)\n",
    "print(\"Mean Squared Error (MSE) \\t:\", mse)\n",
    "print(\"Root Mean Squared Error (RMSE) \\t:\", np.sqrt(mse))\n",
    "\n",
    "print(\"\\n\\n\\nGoodness of Fit of Model \\tTest Dataset\")\n",
    "print(\"Explained Variance (R^2) \\t:\", linreg.score(houseTotalBsmtSF_test, houseSalePrice_test))\n",
    "mse = mean_sq_err(houseSalePrice_test, houseTotalBsmtSF_test_pred)\n",
    "print(\"Mean Squared Error (MSE) \\t:\", mse)\n",
    "print(\"Root Mean Squared Error (RMSE) \\t:\", np.sqrt(mse))"
   ]
  }
 ],
 "metadata": {
  "kernelspec": {
   "display_name": "base",
   "language": "python",
   "name": "python3"
  },
  "language_info": {
   "codemirror_mode": {
    "name": "ipython",
    "version": 3
   },
   "file_extension": ".py",
   "mimetype": "text/x-python",
   "name": "python",
   "nbconvert_exporter": "python",
   "pygments_lexer": "ipython3",
   "version": "3.12.7"
  }
 },
 "nbformat": 4,
 "nbformat_minor": 2
}
