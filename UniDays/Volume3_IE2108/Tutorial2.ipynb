{
 "cells": [
  {
   "cell_type": "markdown",
   "metadata": {},
   "source": [
    "# Tutorial 2"
   ]
  },
  {
   "cell_type": "markdown",
   "metadata": {},
   "source": [
    "Suppose lg 𝑥 = log<sub>2</sub>𝑥. Find the value of each expression below without using a calculator."
   ]
  },
  {
   "cell_type": "markdown",
   "metadata": {},
   "source": [
    "(i) lg 64 = 8"
   ]
  },
  {
   "cell_type": "markdown",
   "metadata": {},
   "source": [
    "(ii) lg 2<sup>1000</sup> = 1000"
   ]
  },
  {
   "cell_type": "markdown",
   "metadata": {},
   "source": [
    "The floor function ⌊𝑥⌋ returns the largest integer not greater than 𝑥 while the ceiling function ⌈𝑥⌉ returns the smallest integer greater than or equal to 𝑥. Compute ⌊𝑥⌋ and ⌈𝑥⌉ for each of the following values of 𝑥: "
   ]
  },
  {
   "cell_type": "markdown",
   "metadata": {},
   "source": [
    "(i) ⌊37.99⌋ = 37 ; ⌈37.99⌉ = 38"
   ]
  },
  {
   "cell_type": "markdown",
   "metadata": {},
   "source": [
    "(iI) ⌊10/3⌋ = 3 ; ⌈10/3⌉ = 4"
   ]
  },
  {
   "cell_type": "markdown",
   "metadata": {},
   "source": [
    "Determine if the following expression is true or false: "
   ]
  },
  {
   "cell_type": "markdown",
   "metadata": {},
   "source": [
    "𝑛! = 𝑛 × (𝑛 − 1)! - Ans is True!"
   ]
  },
  {
   "cell_type": "markdown",
   "metadata": {},
   "source": [
    "Prove that (n r) = (n (n-r)) = n!/r!(n-r)! - Proved\n"
   ]
  },
  {
   "cell_type": "markdown",
   "metadata": {},
   "source": [
    "If 𝑖 is an integer and 𝑖 ≥ 1, find a formula for 1 + 2 + 2<sup>2</sup> + ⋯ + 2<sup>𝑖-1</sup>. Write a Python program to justify your answer"
   ]
  },
  {
   "cell_type": "markdown",
   "metadata": {},
   "source": [
    "Use mathematical induction to prove that each equation is true for every positive integer 𝑛. Proved\n"
   ]
  },
  {
   "cell_type": "code",
   "execution_count": 21,
   "metadata": {},
   "outputs": [
    {
     "name": "stdout",
     "output_type": "stream",
     "text": [
      "31\n",
      "31\n"
     ]
    }
   ],
   "source": [
    "i = int(input(\"Enter Number: \"))\n",
    "sum = 0\n",
    "expected_sum = 0\n",
    "for x in range(0, i):\n",
    "    sum = sum + 2**x\n",
    "print(sum)\n",
    "expected_sum = 2**(i) - 1\n",
    "print(expected_sum)"
   ]
  },
  {
   "cell_type": "code",
   "execution_count": null,
   "metadata": {},
   "outputs": [],
   "source": [
    "print(\"I'm learning Python.\")\n",
    "print('I\"m learning Python.')\n",
    "#print('I'm learning Python.') # error\n",
    "print(\"That's why it's true!\") # That's why it's true!"
   ]
  },
  {
   "cell_type": "code",
   "execution_count": null,
   "metadata": {},
   "outputs": [],
   "source": [
    "print(\"Age: \", 20 + 5 // 2) # Age: 22\n",
    "print(\"Age: \", 20 + 5 % 2) # Age: 21\n",
    "print(4 + 5 >= 8 + 2) # False\n",
    "print(\"5 - 12 = \", 5 - 12) # 5 - 12 = -7"
   ]
  },
  {
   "cell_type": "code",
   "execution_count": null,
   "metadata": {},
   "outputs": [],
   "source": [
    "my_name = \"John\"\n",
    "my_age = 60\n",
    "x = f\"{my_name}, you are too old in this class.\"\n",
    "print(f\"This is {my_name}. I'm {my_age} years old.\")\n",
    "# f stands for format\n",
    "print(x)"
   ]
  },
  {
   "cell_type": "code",
   "execution_count": null,
   "metadata": {},
   "outputs": [],
   "source": [
    "address = \"{} {} {}\"\n",
    "print(address.format(\"Block 123\", \"NTU\", 12)) # Block 123 NTU 12"
   ]
  },
  {
   "cell_type": "code",
   "execution_count": null,
   "metadata": {},
   "outputs": [],
   "source": [
    "print(\"2 * 4 = \", 2*4) # 2 * 4 = 8\n",
    "print(\"2\" * 4 + \"444\") # 2222444\n",
    "print(\"test \"*3) # can you predict the result?\n",
    "print(13 + 2, 13 - 2, 3 * 8) # 15 11 24\n",
    "print(8 / 4, 3 ** 2, 3 * (1 + 4)) # 2.0 9 15"
   ]
  },
  {
   "cell_type": "code",
   "execution_count": null,
   "metadata": {},
   "outputs": [],
   "source": [
    "num = 6\n",
    "num += 1 # 7\n",
    "num -= 5 # 2\n",
    "num /= 2 # 1.0\n",
    "num *= 3 # 3.0\n",
    "num **= 2 # 9.0\n",
    "print(num) # 9.0 "
   ]
  }
 ],
 "metadata": {
  "kernelspec": {
   "display_name": "base",
   "language": "python",
   "name": "python3"
  },
  "language_info": {
   "codemirror_mode": {
    "name": "ipython",
    "version": 3
   },
   "file_extension": ".py",
   "mimetype": "text/x-python",
   "name": "python",
   "nbconvert_exporter": "python",
   "pygments_lexer": "ipython3",
   "version": "3.12.7"
  }
 },
 "nbformat": 4,
 "nbformat_minor": 2
}
