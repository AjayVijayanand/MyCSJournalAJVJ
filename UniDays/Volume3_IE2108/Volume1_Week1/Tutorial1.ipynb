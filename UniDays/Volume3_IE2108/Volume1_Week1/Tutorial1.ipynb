{
 "cells": [
  {
   "cell_type": "markdown",
   "metadata": {},
   "source": [
    "Before attempting these problems, please install Jupyter Notebook (see installation instructions at the end of Week 1 Lecture Notes). In Jupyter Notebook, write and run python programs to do the following:"
   ]
  },
  {
   "cell_type": "markdown",
   "metadata": {},
   "source": [
    "Create the following variables:"
   ]
  },
  {
   "cell_type": "code",
   "execution_count": 1,
   "metadata": {},
   "outputs": [],
   "source": [
    "p = \"Hello Singapore!\"\n",
    "pp = \"I'm learning Python.\"\n",
    "q = 10\n",
    "r = 10.2"
   ]
  },
  {
   "cell_type": "markdown",
   "metadata": {},
   "source": [
    "Display the variables, just make sure the variables are as what I expect."
   ]
  },
  {
   "cell_type": "code",
   "execution_count": null,
   "metadata": {},
   "outputs": [],
   "source": [
    "print(p)\n",
    "print(pp)\n",
    "print(q)\n",
    "print(r)"
   ]
  },
  {
   "cell_type": "markdown",
   "metadata": {},
   "source": [
    "Display the data type (or class) of each variable."
   ]
  },
  {
   "cell_type": "code",
   "execution_count": null,
   "metadata": {},
   "outputs": [],
   "source": [
    "print(type(p))\n",
    "print(type(pp))\n",
    "print(type(q))\n",
    "print(type(r))"
   ]
  },
  {
   "cell_type": "markdown",
   "metadata": {},
   "source": [
    "Display p + pp ."
   ]
  },
  {
   "cell_type": "code",
   "execution_count": null,
   "metadata": {},
   "outputs": [],
   "source": [
    "print(p + pp)"
   ]
  },
  {
   "cell_type": "markdown",
   "metadata": {},
   "source": [
    "Display q + r ."
   ]
  },
  {
   "cell_type": "code",
   "execution_count": null,
   "metadata": {},
   "outputs": [],
   "source": [
    "print(q + r)"
   ]
  },
  {
   "cell_type": "markdown",
   "metadata": {},
   "source": [
    "Display range(10) ."
   ]
  },
  {
   "cell_type": "code",
   "execution_count": null,
   "metadata": {},
   "outputs": [],
   "source": [
    "print(range(10))"
   ]
  },
  {
   "cell_type": "markdown",
   "metadata": {},
   "source": [
    "Display list(range(10)) ."
   ]
  },
  {
   "cell_type": "code",
   "execution_count": null,
   "metadata": {},
   "outputs": [],
   "source": [
    "print(list(range(10)))"
   ]
  },
  {
   "cell_type": "markdown",
   "metadata": {},
   "source": [
    "\n",
    "Modify the above statement to display [1, 3, 5, 7, 9]."
   ]
  },
  {
   "cell_type": "code",
   "execution_count": null,
   "metadata": {},
   "outputs": [],
   "source": [
    "print(list(range(1, 10, 2)))"
   ]
  },
  {
   "cell_type": "markdown",
   "metadata": {},
   "source": [
    "Modify the above statement to display [20, 18, 16, 14, 12]."
   ]
  },
  {
   "cell_type": "code",
   "execution_count": null,
   "metadata": {},
   "outputs": [],
   "source": [
    "print(list(range(20, 10, -2)))"
   ]
  },
  {
   "cell_type": "markdown",
   "metadata": {},
   "source": [
    "Create a list b with the following elements: 'data', 'and', 'book', 'structure', 'hello', 'st'.\n",
    "Display it to make sure that your command worked. "
   ]
  },
  {
   "cell_type": "code",
   "execution_count": null,
   "metadata": {},
   "outputs": [],
   "source": [
    "b = ['data', 'and', 'book', 'structure', 'hello', 'st']\n",
    "print(b)"
   ]
  },
  {
   "cell_type": "markdown",
   "metadata": {},
   "source": [
    "Append a number 32 to the end of the list and verify your command works."
   ]
  },
  {
   "cell_type": "code",
   "execution_count": null,
   "metadata": {},
   "outputs": [],
   "source": [
    "b.append(32)\n",
    "print(b)"
   ]
  },
  {
   "cell_type": "markdown",
   "metadata": {},
   "source": [
    "What is the meaning of b[2:3]? "
   ]
  },
  {
   "cell_type": "markdown",
   "metadata": {},
   "source": [
    "Gives out the list from index 2 to 3 (exclusive). In other words it outputs the word 'book' in a list data type."
   ]
  },
  {
   "cell_type": "code",
   "execution_count": null,
   "metadata": {},
   "outputs": [],
   "source": [
    "print(b[2:3])"
   ]
  },
  {
   "cell_type": "markdown",
   "metadata": {},
   "source": [
    "Remove the 3rd element of the list."
   ]
  },
  {
   "cell_type": "code",
   "execution_count": null,
   "metadata": {},
   "outputs": [],
   "source": [
    "b.pop(2)"
   ]
  },
  {
   "cell_type": "markdown",
   "metadata": {},
   "source": [
    "Use a different command to remove the 1st element of the list."
   ]
  },
  {
   "cell_type": "code",
   "execution_count": 26,
   "metadata": {},
   "outputs": [],
   "source": [
    "del b[0]"
   ]
  },
  {
   "cell_type": "markdown",
   "metadata": {},
   "source": [
    "Display the number of elements in the list (the length of the list)."
   ]
  },
  {
   "cell_type": "code",
   "execution_count": null,
   "metadata": {},
   "outputs": [],
   "source": [
    "print(len(b))"
   ]
  },
  {
   "cell_type": "markdown",
   "metadata": {},
   "source": [
    "For the following 2 values, check whether both are greater than 0"
   ]
  },
  {
   "cell_type": "code",
   "execution_count": null,
   "metadata": {},
   "outputs": [],
   "source": [
    "a = 32\n",
    "b = 132\n",
    "\n",
    "if a > 0 and b > 0:\n",
    "    print(\"Both numbers are greater than Zero\")"
   ]
  },
  {
   "cell_type": "markdown",
   "metadata": {},
   "source": [
    "For the following 2 values, check whether at least one is greater than 0."
   ]
  },
  {
   "cell_type": "code",
   "execution_count": null,
   "metadata": {},
   "outputs": [],
   "source": [
    "a = 32\n",
    "b = -32\n",
    "\n",
    "if a > 0 or b > 0:\n",
    "    print(\"One of the number is greater than Zero\")"
   ]
  },
  {
   "cell_type": "markdown",
   "metadata": {},
   "source": [
    "What data type is person defined below?"
   ]
  },
  {
   "cell_type": "code",
   "execution_count": null,
   "metadata": {},
   "outputs": [],
   "source": [
    "person = {}\n",
    "print(type(person))"
   ]
  },
  {
   "cell_type": "markdown",
   "metadata": {},
   "source": [
    "Display person after the following."
   ]
  },
  {
   "cell_type": "code",
   "execution_count": null,
   "metadata": {},
   "outputs": [],
   "source": [
    "person['firstname'] = 'Jacky'\n",
    "person['lastname'] = 'Chan'\n",
    "person['age'] = 69\n",
    "person['address'] = ['Hong Kong']\n",
    "\n",
    "print(person)"
   ]
  },
  {
   "cell_type": "markdown",
   "metadata": {},
   "source": [
    "Display his first name."
   ]
  },
  {
   "cell_type": "code",
   "execution_count": null,
   "metadata": {},
   "outputs": [],
   "source": [
    "print(person['firstname'])"
   ]
  },
  {
   "cell_type": "markdown",
   "metadata": {},
   "source": [
    "Write a basic calculator that performs addition, subtraction, multiplication, and division."
   ]
  },
  {
   "cell_type": "code",
   "execution_count": null,
   "metadata": {},
   "outputs": [],
   "source": [
    "num1, operator, num2 = input(\"Enter a simple expression: \").split(\" \")\n",
    "match operator:\n",
    "    case \"+\":\n",
    "        result = float(num1) + float(num2)\n",
    "        \n",
    "    case \"-\":\n",
    "        result = float(num1) - float(num2)\n",
    "        \n",
    "    case \"*\":\n",
    "        result = float(num1) * float(num2)\n",
    "        \n",
    "    case \"/\":\n",
    "        try:\n",
    "            result = float(num1) / float(num2)\n",
    "        except ZeroDivisionError:\n",
    "            result = \"Undef\"\n",
    "    case _:\n",
    "        print(\"Invalid Expression\")\n",
    "        \n",
    "print(\"{} {} {} = {}\".format(float(num1), operator, float(num2), result))\n"
   ]
  },
  {
   "cell_type": "markdown",
   "metadata": {},
   "source": [
    "Write a simple game where the user tries to guess a randomly generated number. The program first selects a random number without telling you the number. You make a guess. The program will tell you if too high or too low, until you guess it right. "
   ]
  },
  {
   "cell_type": "code",
   "execution_count": null,
   "metadata": {},
   "outputs": [
    {
     "name": "stdout",
     "output_type": "stream",
     "text": [
      "You guessed higher! Guess a lower number!\n",
      "Try Again!\n",
      "\n",
      "You guessed higher! Guess a lower number!\n",
      "Try Again!\n",
      "\n",
      "You guessed higher! Guess a lower number!\n",
      "Try Again!\n",
      "\n",
      "You guessed lower! Guess a higher number!\n",
      "Try Again!\n",
      "\n",
      "You guessed lower! Guess a higher number!\n",
      "Try Again!\n",
      "\n",
      "You guessed lower! Guess a higher number!\n",
      "Try Again!\n",
      "\n",
      "You guessed lower! Guess a higher number!\n",
      "Try Again!\n",
      "\n",
      "You guessed lower! Guess a higher number!\n",
      "Try Again!\n",
      "\n",
      "You guessed higher! Guess a lower number!\n",
      "Try Again!\n",
      "\n",
      "You guessed higher! Guess a lower number!\n",
      "Try Again!\n",
      "\n",
      "You guessed higher! Guess a lower number!\n",
      "Try Again!\n",
      "\n",
      "You guessed lower! Guess a higher number!\n",
      "Try Again!\n",
      "\n",
      "You guessed lower! Guess a higher number!\n",
      "Try Again!\n",
      "\n",
      "You have guessed the number!\n"
     ]
    }
   ],
   "source": [
    "import random\n",
    "\n",
    "number = random.randint(1, 100)\n",
    "while True:\n",
    "    guess = int(input(\"Enter a number between 1 to 100 (inclusive): \"))\n",
    "    if number == guess:\n",
    "        print(\"You have guessed the number!\")\n",
    "        break\n",
    "    else:\n",
    "        if number > guess:\n",
    "            print(\"Guess a HIGHER number!\")\n",
    "        else:\n",
    "            print(\"Guess a LOWER number!\")\n",
    "        print(\"Try Again!\\n\")\n"
   ]
  },
  {
   "cell_type": "markdown",
   "metadata": {},
   "source": [
    "The first 2 numbers of the Fibonacci sequence are 0 and 1. Each subsequent number is equal to the sum of the previous 2 numbers. Generate and print the first n numbers in the Fibonacci sequence."
   ]
  },
  {
   "cell_type": "code",
   "execution_count": null,
   "metadata": {},
   "outputs": [],
   "source": [
    "def fibonacci(num1, num2, n):\n",
    "    if n > 1:\n",
    "        num3 = num1 + num2\n",
    "        num1 = num2\n",
    "        num2 = num3\n",
    "        print(\", {}\".format(num3), end = \"\")\n",
    "        fibonacci(num1, num2, n-1)\n",
    "\n",
    "n = int(input(\"Enter the number of numbers for the Fibonacci sequence: \"))\n",
    "if n == 1:\n",
    "    print(\"0\")\n",
    "else:\n",
    "    print(\"0, 1\", end = \"\")\n",
    "    fibonacci(0, 1, n-1)"
   ]
  },
  {
   "cell_type": "code",
   "execution_count": null,
   "metadata": {},
   "outputs": [],
   "source": [
    "num1 = 0\n",
    "num2 = 1\n",
    "n = int(input(\"Enter the number of numbers for the Fibonacci sequence: \"))\n",
    "if n == 1:\n",
    "    print(\"0\")\n",
    "else:\n",
    "    print(\"0, 1\", end = \"\")\n",
    "    for x in range(1, n-1):\n",
    "        num3 = num1 + num2\n",
    "        num1 = num2\n",
    "        num2 = num3\n",
    "        print(\", {}\".format(num3), end = \"\")\n",
    "\n"
   ]
  },
  {
   "cell_type": "markdown",
   "metadata": {},
   "source": [
    "Check if a given string is a palindrome (reads the same forwards and backwards)."
   ]
  },
  {
   "cell_type": "code",
   "execution_count": 3,
   "metadata": {},
   "outputs": [
    {
     "name": "stdout",
     "output_type": "stream",
     "text": [
      "This is NOT a palindrome\n"
     ]
    }
   ],
   "source": [
    "word = input(\"Enter a word to check if it is a palindrome: \")\n",
    "\n",
    "if word == word[::-1]:\n",
    "    print(\"This is a palindrome\")\n",
    "else:\n",
    "    print(\"This is NOT a palindrome\")"
   ]
  }
 ],
 "metadata": {
  "kernelspec": {
   "display_name": "Python 3",
   "language": "python",
   "name": "python3"
  },
  "language_info": {
   "codemirror_mode": {
    "name": "ipython",
    "version": 3
   },
   "file_extension": ".py",
   "mimetype": "text/x-python",
   "name": "python",
   "nbconvert_exporter": "python",
   "pygments_lexer": "ipython3",
   "version": "3.13.1"
  }
 },
 "nbformat": 4,
 "nbformat_minor": 2
}
